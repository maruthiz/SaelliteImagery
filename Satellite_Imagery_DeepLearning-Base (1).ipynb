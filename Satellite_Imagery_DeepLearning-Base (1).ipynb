{
 "cells": [
  {
   "cell_type": "code",
   "execution_count": null,
   "metadata": {
    "colab": {
     "base_uri": "https://localhost:8080/"
    },
    "executionInfo": {
     "elapsed": 4080,
     "status": "ok",
     "timestamp": 1731318932214,
     "user": {
      "displayName": "Mars Pluto",
      "userId": "00712412227210316639"
     },
     "user_tz": -330
    },
    "id": "iIdCNWjklrSF",
    "outputId": "496f8ac8-cce9-4542-8e23-1627999303c4"
   },
   "outputs": [
    {
     "name": "stdout",
     "output_type": "stream",
     "text": [
      "Requirement already satisfied: patchify in c:\\users\\marut\\anaconda3\\lib\\site-packages (0.2.3)\n",
      "Requirement already satisfied: numpy<2,>=1 in c:\\users\\marut\\anaconda3\\lib\\site-packages (from patchify) (1.26.4)\n"
     ]
    },
    {
     "name": "stderr",
     "output_type": "stream",
     "text": [
      "WARNING: Ignoring invalid distribution -ensorflow-intel (c:\\users\\marut\\anaconda3\\lib\\site-packages)\n",
      "WARNING: Ignoring invalid distribution -ensorflow-intel (c:\\users\\marut\\anaconda3\\lib\\site-packages)\n",
      "WARNING: Ignoring invalid distribution -ensorflow-intel (c:\\users\\marut\\anaconda3\\lib\\site-packages)\n",
      "WARNING: Ignoring invalid distribution -ensorflow-intel (c:\\users\\marut\\anaconda3\\lib\\site-packages)\n",
      "WARNING: Ignoring invalid distribution -ensorflow-intel (c:\\users\\marut\\anaconda3\\lib\\site-packages)\n",
      "WARNING: Ignoring invalid distribution -ensorflow-intel (c:\\users\\marut\\anaconda3\\lib\\site-packages)\n"
     ]
    }
   ],
   "source": [
    "!pip install patchify\n",
    "!pip uninstall numpy\n",
    "#!pip install  numpy==1.23.0"
   ]
  },
  {
   "cell_type": "code",
   "execution_count": 2,
   "metadata": {
    "executionInfo": {
     "elapsed": 4,
     "status": "ok",
     "timestamp": 1731318722137,
     "user": {
      "displayName": "Mars Pluto",
      "userId": "00712412227210316639"
     },
     "user_tz": -330
    },
    "id": "-QcLzrxLT2u2"
   },
   "outputs": [],
   "source": [
    "#!pip uninstall -y keras tensorflow segmentation-models\n"
   ]
  },
  {
   "cell_type": "code",
   "execution_count": 18,
   "metadata": {
    "colab": {
     "base_uri": "https://localhost:8080/"
    },
    "executionInfo": {
     "elapsed": 27935,
     "status": "ok",
     "timestamp": 1731318962806,
     "user": {
      "displayName": "Mars Pluto",
      "userId": "00712412227210316639"
     },
     "user_tz": -330
    },
    "id": "kmfjdDoXJ0Pj",
    "outputId": "c82d57a8-750e-49f0-bc15-843b569b7487"
   },
   "outputs": [
    {
     "name": "stdout",
     "output_type": "stream",
     "text": [
      "Mounted at /content/drive\n"
     ]
    }
   ],
   "source": [
    "##drive.mount('/content/drive')\n"
   ]
  },
  {
   "cell_type": "code",
   "execution_count": 4,
   "metadata": {
    "colab": {
     "base_uri": "https://localhost:8080/"
    },
    "executionInfo": {
     "elapsed": 76119,
     "status": "ok",
     "timestamp": 1731318798253,
     "user": {
      "displayName": "Mars Pluto",
      "userId": "00712412227210316639"
     },
     "user_tz": -330
    },
    "id": "hvxLq6S5ZRh_",
    "outputId": "b4fe80f1-d2f1-426b-9a9b-6374bcf65b07"
   },
   "outputs": [
    {
     "name": "stdout",
     "output_type": "stream",
     "text": [
      "Collecting tensorflow==2.8.0\n",
      "  Downloading tensorflow-2.8.0-cp39-cp39-win_amd64.whl (438.0 MB)\n",
      "Note: you may need to restart the kernel to use updated packages.\n"
     ]
    },
    {
     "name": "stderr",
     "output_type": "stream",
     "text": [
      "WARNING: Ignoring invalid distribution -ensorflow-intel (c:\\users\\marut\\anaconda3\\lib\\site-packages)\n",
      "WARNING: Ignoring invalid distribution -ensorflow-intel (c:\\users\\marut\\anaconda3\\lib\\site-packages)\n",
      "ERROR: Could not install packages due to an OSError: [Errno 28] No space left on device\n",
      "\n",
      "WARNING: Ignoring invalid distribution -ensorflow-intel (c:\\users\\marut\\anaconda3\\lib\\site-packages)\n",
      "WARNING: Ignoring invalid distribution -ensorflow-intel (c:\\users\\marut\\anaconda3\\lib\\site-packages)\n",
      "WARNING: Ignoring invalid distribution -ensorflow-intel (c:\\users\\marut\\anaconda3\\lib\\site-packages)\n"
     ]
    }
   ],
   "source": [
    "pip install tensorflow==2.8.0 keras==2.8.0 segmentation-models==1.0.1\n"
   ]
  },
  {
   "cell_type": "code",
   "execution_count": 5,
   "metadata": {
    "executionInfo": {
     "elapsed": 3502,
     "status": "ok",
     "timestamp": 1731318801752,
     "user": {
      "displayName": "Mars Pluto",
      "userId": "00712412227210316639"
     },
     "user_tz": -330
    },
    "id": "WYjtduool9a_"
   },
   "outputs": [
    {
     "name": "stderr",
     "output_type": "stream",
     "text": [
      "C:\\Users\\marut\\anaconda3\\lib\\site-packages\\scipy\\__init__.py:146: UserWarning: A NumPy version >=1.16.5 and <1.23.0 is required for this version of SciPy (detected version 1.26.4\n",
      "  warnings.warn(f\"A NumPy version >={np_minversion} and <{np_maxversion}\"\n"
     ]
    }
   ],
   "source": [
    "import os\n",
    "import cv2\n",
    "from PIL import Image\n",
    "import numpy as np\n",
    "from patchify import patchify\n",
    "from sklearn.preprocessing import MinMaxScaler, StandardScaler\n",
    "\n",
    "from matplotlib import pyplot as plt\n",
    "import random"
   ]
  },
  {
   "cell_type": "code",
   "execution_count": null,
   "metadata": {
    "colab": {
     "base_uri": "https://localhost:8080/"
    },
    "executionInfo": {
     "elapsed": 3651,
     "status": "ok",
     "timestamp": 1731318805401,
     "user": {
      "displayName": "Mars Pluto",
      "userId": "00712412227210316639"
     },
     "user_tz": -330
    },
    "id": "QgbHdAk9Zn4j",
    "outputId": "084a94f0-3f82-45b4-e6ee-ac064c695af0"
   },
   "outputs": [],
   "source": [
    "import tensorflow as tf\n",
    "from tensorflow.keras.utils import to_categorical  # Import to_categorical from tensorflow.keras\n",
    "import segmentation_models as sm  # Import segmentation models\n"
   ]
  },
  {
   "cell_type": "code",
   "execution_count": null,
   "metadata": {
    "executionInfo": {
     "elapsed": 5,
     "status": "ok",
     "timestamp": 1731318805401,
     "user": {
      "displayName": "Mars Pluto",
      "userId": "00712412227210316639"
     },
     "user_tz": -330
    },
    "id": "OrDufqtIl_Fj"
   },
   "outputs": [],
   "source": [
    "minmaxscaler = MinMaxScaler()"
   ]
  },
  {
   "cell_type": "code",
   "execution_count": null,
   "metadata": {
    "executionInfo": {
     "elapsed": 775,
     "status": "ok",
     "timestamp": 1731318973121,
     "user": {
      "displayName": "Mars Pluto",
      "userId": "00712412227210316639"
     },
     "user_tz": -330
    },
    "id": "tDKYwQVAmA8E"
   },
   "outputs": [],
   "source": [
    "dataset_root_folder = r'C:\\Users\\marut\\Downloads\\archive (8)\\Semantic segmentation dataset'"
   ]
  },
  {
   "cell_type": "code",
   "execution_count": null,
   "metadata": {
    "executionInfo": {
     "elapsed": 450,
     "status": "ok",
     "timestamp": 1731318976204,
     "user": {
      "displayName": "Mars Pluto",
      "userId": "00712412227210316639"
     },
     "user_tz": -330
    },
    "id": "G8IWvZRRmG_9"
   },
   "outputs": [],
   "source": [
    "dataset_name = \"\""
   ]
  },
  {
   "cell_type": "code",
   "execution_count": null,
   "metadata": {
    "executionInfo": {
     "elapsed": 515,
     "status": "ok",
     "timestamp": 1731318978724,
     "user": {
      "displayName": "Mars Pluto",
      "userId": "00712412227210316639"
     },
     "user_tz": -330
    },
    "id": "U-0NrPKxmRYf"
   },
   "outputs": [],
   "source": [
    "image_patch_size = 256"
   ]
  },
  {
   "cell_type": "code",
   "execution_count": null,
   "metadata": {
    "executionInfo": {
     "elapsed": 97805,
     "status": "ok",
     "timestamp": 1731319079384,
     "user": {
      "displayName": "Mars Pluto",
      "userId": "00712412227210316639"
     },
     "user_tz": -330
    },
    "id": "OHvrr5JYmIra"
   },
   "outputs": [],
   "source": [
    "image_dataset = []\n",
    "mask_dataset = []\n",
    "\n",
    "for image_type in ['images' , 'masks']:\n",
    "  if image_type == 'images':\n",
    "    image_extension = 'jpg'\n",
    "  elif image_type == 'masks':\n",
    "     image_extension = 'png'\n",
    "  for tile_id in range(1,8):\n",
    "    for image_id in range(1,20):\n",
    "      image = cv2.imread(f'{dataset_root_folder}/{dataset_name}/Tile {tile_id}/{image_type}/image_part_00{image_id}.{image_extension}',1)\n",
    "      if image is not None:\n",
    "        if image_type == 'masks':\n",
    "          image = cv2.cvtColor(image, cv2.COLOR_BGR2RGB)\n",
    "        #print(image.shape)\n",
    "        size_x = (image.shape[1]//image_patch_size)*image_patch_size\n",
    "        size_y = (image.shape[0]//image_patch_size)*image_patch_size\n",
    "        #print(\"{} --- {} - {}\".format(image.shape, size_x, size_y))\n",
    "        image = Image.fromarray(image)\n",
    "        image = image.crop((0,0, size_x, size_y))\n",
    "        #print(\"({},  {})\".format(image.size[0],image.size[1]))\n",
    "        image = np.array(image)\n",
    "        patched_images = patchify(image, (image_patch_size, image_patch_size, 3), step=image_patch_size)\n",
    "        #print(len(patched_images))\n",
    "        for i in range(patched_images.shape[0]):\n",
    "          for j in range(patched_images.shape[1]):\n",
    "            if image_type == 'images':\n",
    "              individual_patched_image = patched_images[i,j,:,:]\n",
    "              #print(individual_patched_image.shape)\n",
    "              individual_patched_image = minmaxscaler.fit_transform(individual_patched_image.reshape(-1, individual_patched_image.shape[-1])).reshape(individual_patched_image.shape)\n",
    "              individual_patched_image = individual_patched_image[0]\n",
    "              #print(individual_patched_image.shape)\n",
    "              image_dataset.append(individual_patched_image)\n",
    "            elif image_type == 'masks':\n",
    "              individual_patched_mask = patched_images[i,j,:,:]\n",
    "              individual_patched_mask = individual_patched_mask[0]\n",
    "              mask_dataset.append(individual_patched_mask)\n"
   ]
  },
  {
   "cell_type": "code",
   "execution_count": null,
   "metadata": {
    "executionInfo": {
     "elapsed": 2927,
     "status": "ok",
     "timestamp": 1731319088167,
     "user": {
      "displayName": "Mars Pluto",
      "userId": "00712412227210316639"
     },
     "user_tz": -330
    },
    "id": "kIAxnCtxne3H"
   },
   "outputs": [],
   "source": [
    "image_dataset = np.array(image_dataset)\n",
    "mask_dataset = np.array(mask_dataset)"
   ]
  },
  {
   "cell_type": "code",
   "execution_count": null,
   "metadata": {
    "colab": {
     "base_uri": "https://localhost:8080/"
    },
    "executionInfo": {
     "elapsed": 448,
     "status": "ok",
     "timestamp": 1731319090070,
     "user": {
      "displayName": "Mars Pluto",
      "userId": "00712412227210316639"
     },
     "user_tz": -330
    },
    "id": "3ZlJ5RlDuG4Q",
    "outputId": "827c9bb9-5faf-4bd2-87d8-d2e35d693d25"
   },
   "outputs": [],
   "source": [
    "print(len(image_dataset))\n",
    "print(len(mask_dataset))"
   ]
  },
  {
   "cell_type": "code",
   "execution_count": null,
   "metadata": {
    "colab": {
     "base_uri": "https://localhost:8080/",
     "height": 441
    },
    "executionInfo": {
     "elapsed": 2364,
     "status": "ok",
     "timestamp": 1731319094178,
     "user": {
      "displayName": "Mars Pluto",
      "userId": "00712412227210316639"
     },
     "user_tz": -330
    },
    "id": "Q0EBaSNmmMDh",
    "outputId": "aa0f39f4-0864-477b-e583-c1b65b808309"
   },
   "outputs": [],
   "source": [
    "random_image_id = random.randint(0, len(image_dataset))\n",
    "\n",
    "plt.figure(figsize=(14,8))\n",
    "plt.subplot(121)\n",
    "plt.imshow(image_dataset[random_image_id])\n",
    "plt.subplot(122)\n",
    "plt.imshow(mask_dataset[random_image_id])"
   ]
  },
  {
   "cell_type": "code",
   "execution_count": null,
   "metadata": {
    "colab": {
     "base_uri": "https://localhost:8080/"
    },
    "executionInfo": {
     "elapsed": 446,
     "status": "ok",
     "timestamp": 1731319100250,
     "user": {
      "displayName": "Mars Pluto",
      "userId": "00712412227210316639"
     },
     "user_tz": -330
    },
    "id": "r6_3AaG8maJA",
    "outputId": "fcda405a-9133-4105-f6a1-336e3aab12c3"
   },
   "outputs": [],
   "source": [
    "class_building = '#3C1098'\n",
    "class_building = class_building.lstrip('#')\n",
    "class_building = np.array(tuple(int(class_building[i:i+2], 16) for i in (0,2,4)))\n",
    "print(class_building)\n",
    "\n",
    "class_land = '#8429F6'\n",
    "class_land = class_land.lstrip('#')\n",
    "class_land = np.array(tuple(int(class_land[i:i+2], 16) for i in (0,2,4)))\n",
    "print(class_land)\n",
    "\n",
    "class_road = '#6EC1E4'\n",
    "class_road = class_road.lstrip('#')\n",
    "class_road = np.array(tuple(int(class_road[i:i+2], 16) for i in (0,2,4)))\n",
    "print(class_road)\n",
    "\n",
    "class_vegetation = '#FEDD3A'\n",
    "class_vegetation = class_vegetation.lstrip('#')\n",
    "class_vegetation = np.array(tuple(int(class_vegetation[i:i+2], 16) for i in (0,2,4)))\n",
    "print(class_vegetation)\n",
    "\n",
    "class_water = '#E2A929'\n",
    "class_water = class_water.lstrip('#')\n",
    "class_water = np.array(tuple(int(class_water[i:i+2], 16) for i in (0,2,4)))\n",
    "print(class_water)\n",
    "\n",
    "class_unlabeled = '#9B9B9B'\n",
    "class_unlabeled = class_unlabeled.lstrip('#')\n",
    "class_unlabeled = np.array(tuple(int(class_unlabeled[i:i+2], 16) for i in (0,2,4)))\n",
    "print(class_unlabeled)"
   ]
  },
  {
   "cell_type": "code",
   "execution_count": null,
   "metadata": {
    "executionInfo": {
     "elapsed": 479,
     "status": "ok",
     "timestamp": 1731319102750,
     "user": {
      "displayName": "Mars Pluto",
      "userId": "00712412227210316639"
     },
     "user_tz": -330
    },
    "id": "y89efXDBmcrP"
   },
   "outputs": [],
   "source": [
    "label = individual_patched_mask"
   ]
  },
  {
   "cell_type": "code",
   "execution_count": null,
   "metadata": {
    "executionInfo": {
     "elapsed": 1,
     "status": "ok",
     "timestamp": 1731319104248,
     "user": {
      "displayName": "Mars Pluto",
      "userId": "00712412227210316639"
     },
     "user_tz": -330
    },
    "id": "mZ2M23e_mdFU"
   },
   "outputs": [],
   "source": [
    "def rgb_to_label(label):\n",
    "  label_segment = np.zeros(label.shape, dtype=np.uint8)\n",
    "  label_segment[np.all(label == class_water, axis=-1)] = 0\n",
    "  label_segment[np.all(label == class_land, axis=-1)] = 1\n",
    "  label_segment[np.all(label == class_road, axis=-1)] = 2\n",
    "  label_segment[np.all(label == class_building, axis=-1)] = 3\n",
    "  label_segment[np.all(label == class_vegetation, axis=-1)] = 4\n",
    "  label_segment[np.all(label == class_unlabeled, axis=-1)] = 5\n",
    "  #print(label_segment)\n",
    "  label_segment = label_segment[:,:,0]\n",
    "  #print(label_segment)\n",
    "  return label_segment"
   ]
  },
  {
   "cell_type": "code",
   "execution_count": null,
   "metadata": {
    "executionInfo": {
     "elapsed": 16391,
     "status": "ok",
     "timestamp": 1731319122509,
     "user": {
      "displayName": "Mars Pluto",
      "userId": "00712412227210316639"
     },
     "user_tz": -330
    },
    "id": "umFpRZFhme1K"
   },
   "outputs": [],
   "source": [
    "labels = []\n",
    "for i in range(mask_dataset.shape[0]):\n",
    "  label = rgb_to_label(mask_dataset[i])\n",
    "  labels.append(label)"
   ]
  },
  {
   "cell_type": "code",
   "execution_count": null,
   "metadata": {
    "executionInfo": {
     "elapsed": 448,
     "status": "ok",
     "timestamp": 1731319124847,
     "user": {
      "displayName": "Mars Pluto",
      "userId": "00712412227210316639"
     },
     "user_tz": -330
    },
    "id": "CKyKRgIcmmaM"
   },
   "outputs": [],
   "source": [
    "labels = np.array(labels)\n",
    "labels = np.expand_dims(labels, axis=3)"
   ]
  },
  {
   "cell_type": "code",
   "execution_count": null,
   "metadata": {
    "colab": {
     "base_uri": "https://localhost:8080/"
    },
    "executionInfo": {
     "elapsed": 2476,
     "status": "ok",
     "timestamp": 1731319128562,
     "user": {
      "displayName": "Mars Pluto",
      "userId": "00712412227210316639"
     },
     "user_tz": -330
    },
    "id": "MLzvHuYFmg5d",
    "outputId": "82172217-88df-476c-944e-c2b00c019f61"
   },
   "outputs": [],
   "source": [
    "np.unique(labels)"
   ]
  },
  {
   "cell_type": "code",
   "execution_count": null,
   "metadata": {
    "colab": {
     "base_uri": "https://localhost:8080/"
    },
    "executionInfo": {
     "elapsed": 2136,
     "status": "ok",
     "timestamp": 1731319131965,
     "user": {
      "displayName": "Mars Pluto",
      "userId": "00712412227210316639"
     },
     "user_tz": -330
    },
    "id": "wP3gjg69mqQA",
    "outputId": "dcdcba3b-a0b0-4bde-dc0b-f638a2a7248e"
   },
   "outputs": [],
   "source": [
    "print(\"Total unique labels based on masks: \",format(np.unique(labels)))"
   ]
  },
  {
   "cell_type": "code",
   "execution_count": null,
   "metadata": {
    "colab": {
     "base_uri": "https://localhost:8080/",
     "height": 441
    },
    "executionInfo": {
     "elapsed": 2478,
     "status": "ok",
     "timestamp": 1731319135898,
     "user": {
      "displayName": "Mars Pluto",
      "userId": "00712412227210316639"
     },
     "user_tz": -330
    },
    "id": "19VDRNOdmtS1",
    "outputId": "3893bc54-28a4-4851-e235-c2ccdfe96cb5"
   },
   "outputs": [],
   "source": [
    "random_image_id = random.randint(0, len(image_dataset))\n",
    "\n",
    "plt.figure(figsize=(14,8))\n",
    "plt.subplot(121)\n",
    "plt.imshow(image_dataset[random_image_id])\n",
    "plt.subplot(122)\n",
    "#plt.imshow(mask_dataset[random_image_id])\n",
    "plt.imshow(labels[random_image_id][:,:,0])"
   ]
  },
  {
   "cell_type": "code",
   "execution_count": null,
   "metadata": {
    "executionInfo": {
     "elapsed": 2791,
     "status": "ok",
     "timestamp": 1731319143532,
     "user": {
      "displayName": "Mars Pluto",
      "userId": "00712412227210316639"
     },
     "user_tz": -330
    },
    "id": "3oxlEbjTmv-a"
   },
   "outputs": [],
   "source": [
    "total_classes = len(np.unique(labels))"
   ]
  },
  {
   "cell_type": "code",
   "execution_count": null,
   "metadata": {
    "colab": {
     "base_uri": "https://localhost:8080/"
    },
    "executionInfo": {
     "elapsed": 2,
     "status": "ok",
     "timestamp": 1731319145008,
     "user": {
      "displayName": "Mars Pluto",
      "userId": "00712412227210316639"
     },
     "user_tz": -330
    },
    "id": "V7LMz9XFn5Eu",
    "outputId": "940f63a4-ecad-4223-848e-a4c776f4f644"
   },
   "outputs": [],
   "source": [
    "total_classes"
   ]
  },
  {
   "cell_type": "code",
   "execution_count": null,
   "metadata": {
    "executionInfo": {
     "elapsed": 425,
     "status": "ok",
     "timestamp": 1731319147257,
     "user": {
      "displayName": "Mars Pluto",
      "userId": "00712412227210316639"
     },
     "user_tz": -330
    },
    "id": "MBNS43vQmxF5"
   },
   "outputs": [],
   "source": [
    "#from tensorflow.keras.utils import to_categorical"
   ]
  },
  {
   "cell_type": "code",
   "execution_count": null,
   "metadata": {
    "executionInfo": {
     "elapsed": 1802,
     "status": "ok",
     "timestamp": 1731319152765,
     "user": {
      "displayName": "Mars Pluto",
      "userId": "00712412227210316639"
     },
     "user_tz": -330
    },
    "id": "CqCblRNimzIh"
   },
   "outputs": [],
   "source": [
    "labels_categorical_dataset = to_categorical(labels, num_classes=total_classes)"
   ]
  },
  {
   "cell_type": "code",
   "execution_count": null,
   "metadata": {
    "executionInfo": {
     "elapsed": 2,
     "status": "ok",
     "timestamp": 1731319154258,
     "user": {
      "displayName": "Mars Pluto",
      "userId": "00712412227210316639"
     },
     "user_tz": -330
    },
    "id": "vtDYuJI4m2NY"
   },
   "outputs": [],
   "source": [
    "master_trianing_dataset = image_dataset"
   ]
  },
  {
   "cell_type": "code",
   "execution_count": null,
   "metadata": {
    "executionInfo": {
     "elapsed": 2,
     "status": "ok",
     "timestamp": 1731319155499,
     "user": {
      "displayName": "Mars Pluto",
      "userId": "00712412227210316639"
     },
     "user_tz": -330
    },
    "id": "NapdJfgwm4ke"
   },
   "outputs": [],
   "source": [
    "from sklearn.model_selection import train_test_split"
   ]
  },
  {
   "cell_type": "code",
   "execution_count": null,
   "metadata": {
    "executionInfo": {
     "elapsed": 3793,
     "status": "ok",
     "timestamp": 1731319160944,
     "user": {
      "displayName": "Mars Pluto",
      "userId": "00712412227210316639"
     },
     "user_tz": -330
    },
    "id": "Xtm3U-UXnu6d"
   },
   "outputs": [],
   "source": [
    "X_train, X_test, y_train, y_test = train_test_split(master_trianing_dataset, labels_categorical_dataset, test_size=0.15, random_state=100)"
   ]
  },
  {
   "cell_type": "code",
   "execution_count": null,
   "metadata": {
    "colab": {
     "base_uri": "https://localhost:8080/"
    },
    "executionInfo": {
     "elapsed": 523,
     "status": "ok",
     "timestamp": 1731319162909,
     "user": {
      "displayName": "Mars Pluto",
      "userId": "00712412227210316639"
     },
     "user_tz": -330
    },
    "id": "JhKWfLtKnwwr",
    "outputId": "2c355f36-0f57-4d4d-c043-f76ea468b1c9"
   },
   "outputs": [],
   "source": [
    "print(X_train.shape)\n",
    "print(X_test.shape)\n",
    "print(y_train.shape)\n",
    "print(y_test.shape)"
   ]
  },
  {
   "cell_type": "code",
   "execution_count": null,
   "metadata": {
    "executionInfo": {
     "elapsed": 473,
     "status": "ok",
     "timestamp": 1731319165637,
     "user": {
      "displayName": "Mars Pluto",
      "userId": "00712412227210316639"
     },
     "user_tz": -330
    },
    "id": "LM8L0_xnnxRH"
   },
   "outputs": [],
   "source": [
    "\n",
    "image_height = X_train.shape[1]\n",
    "image_width = X_train.shape[2]\n",
    "image_channels = X_train.shape[3]\n",
    "total_classes = y_train.shape[3]"
   ]
  },
  {
   "cell_type": "code",
   "execution_count": null,
   "metadata": {
    "colab": {
     "base_uri": "https://localhost:8080/"
    },
    "executionInfo": {
     "elapsed": 464,
     "status": "ok",
     "timestamp": 1731319167894,
     "user": {
      "displayName": "Mars Pluto",
      "userId": "00712412227210316639"
     },
     "user_tz": -330
    },
    "id": "6odlwxmXuibC",
    "outputId": "cea14c27-67ae-4d70-d857-c9d365ed40da"
   },
   "outputs": [],
   "source": [
    "print(image_height)\n",
    "print(image_width)\n",
    "print(image_channels)\n",
    "print(total_classes)"
   ]
  },
  {
   "cell_type": "code",
   "execution_count": null,
   "metadata": {
    "executionInfo": {
     "elapsed": 1,
     "status": "ok",
     "timestamp": 1731319169748,
     "user": {
      "displayName": "Mars Pluto",
      "userId": "00712412227210316639"
     },
     "user_tz": -330
    },
    "id": "HoA-i571J8ke"
   },
   "outputs": [],
   "source": [
    "#!pip install segmentation-models==1.0.1\n"
   ]
  },
  {
   "cell_type": "code",
   "execution_count": null,
   "metadata": {
    "executionInfo": {
     "elapsed": 461,
     "status": "ok",
     "timestamp": 1731319171775,
     "user": {
      "displayName": "Mars Pluto",
      "userId": "00712412227210316639"
     },
     "user_tz": -330
    },
    "id": "hSSZ_Mh_nzFA"
   },
   "outputs": [],
   "source": [
    "from keras.models import Model\n",
    "from keras.layers import Input, Conv2D, MaxPooling2D, UpSampling2D, Conv2DTranspose\n",
    "from keras.layers import concatenate, BatchNormalization, Dropout, Lambda"
   ]
  },
  {
   "cell_type": "code",
   "execution_count": null,
   "metadata": {
    "executionInfo": {
     "elapsed": 464,
     "status": "ok",
     "timestamp": 1731319173664,
     "user": {
      "displayName": "Mars Pluto",
      "userId": "00712412227210316639"
     },
     "user_tz": -330
    },
    "id": "U-55GFbQvM6I"
   },
   "outputs": [],
   "source": [
    "from keras import backend as K"
   ]
  },
  {
   "cell_type": "code",
   "execution_count": null,
   "metadata": {
    "executionInfo": {
     "elapsed": 446,
     "status": "ok",
     "timestamp": 1731319176054,
     "user": {
      "displayName": "Mars Pluto",
      "userId": "00712412227210316639"
     },
     "user_tz": -330
    },
    "id": "gZt7V6BRvgc5"
   },
   "outputs": [],
   "source": [
    "def jaccard_coef(y_true, y_pred):\n",
    "  y_true_flatten = K.flatten(y_true)\n",
    "  y_pred_flatten = K.flatten(y_pred)\n",
    "  intersection = K.sum(y_true_flatten * y_pred_flatten)\n",
    "  final_coef_value = (intersection + 1.0) / (K.sum(y_true_flatten) + K.sum(y_pred_flatten) - intersection + 1.0)\n",
    "  return final_coef_value\n"
   ]
  },
  {
   "cell_type": "code",
   "execution_count": null,
   "metadata": {
    "executionInfo": {
     "elapsed": 3,
     "status": "ok",
     "timestamp": 1731319177869,
     "user": {
      "displayName": "Mars Pluto",
      "userId": "00712412227210316639"
     },
     "user_tz": -330
    },
    "id": "znDQ8-XdzSJl"
   },
   "outputs": [],
   "source": [
    "def multi_unet_model(n_classes=5, image_height=256, image_width=256, image_channels=1):\n",
    "\n",
    "  inputs = Input((image_height, image_width, image_channels))\n",
    "\n",
    "  source_input = inputs\n",
    "\n",
    "  c1 = Conv2D(16, (3,3), activation=\"relu\", kernel_initializer=\"he_normal\", padding=\"same\")(source_input)\n",
    "  c1 = Dropout(0.2)(c1)\n",
    "  c1 = Conv2D(16, (3,3), activation=\"relu\", kernel_initializer=\"he_normal\", padding=\"same\")(c1)\n",
    "  p1 = MaxPooling2D((2,2))(c1)\n",
    "\n",
    "  c2 = Conv2D(32, (3,3), activation=\"relu\", kernel_initializer=\"he_normal\", padding=\"same\")(p1)\n",
    "  c2 = Dropout(0.2)(c2)\n",
    "  c2 = Conv2D(32, (3,3), activation=\"relu\", kernel_initializer=\"he_normal\", padding=\"same\")(c2)\n",
    "  p2 = MaxPooling2D((2,2))(c2)\n",
    "\n",
    "  c3 = Conv2D(64, (3,3), activation=\"relu\", kernel_initializer=\"he_normal\", padding=\"same\")(p2)\n",
    "  c3 = Dropout(0.2)(c3)\n",
    "  c3 = Conv2D(64, (3,3), activation=\"relu\", kernel_initializer=\"he_normal\", padding=\"same\")(c3)\n",
    "  p3 = MaxPooling2D((2,2))(c3)\n",
    "\n",
    "  c4 = Conv2D(128, (3,3), activation=\"relu\", kernel_initializer=\"he_normal\", padding=\"same\")(p3)\n",
    "  c4 = Dropout(0.2)(c4)\n",
    "  c4 = Conv2D(128, (3,3), activation=\"relu\", kernel_initializer=\"he_normal\", padding=\"same\")(c4)\n",
    "  p4 = MaxPooling2D((2,2))(c4)\n",
    "\n",
    "  c5 = Conv2D(256, (3,3), activation=\"relu\", kernel_initializer=\"he_normal\", padding=\"same\")(p4)\n",
    "  c5 = Dropout(0.2)(c5)\n",
    "  c5 = Conv2D(256, (3,3), activation=\"relu\", kernel_initializer=\"he_normal\", padding=\"same\")(c5)\n",
    "\n",
    "  u6 = Conv2DTranspose(128, (2,2), strides=(2,2), padding=\"same\")(c5)\n",
    "  u6 = concatenate([u6, c4])\n",
    "  c6 = Conv2D(128, (3,3), activation=\"relu\", kernel_initializer=\"he_normal\", padding=\"same\")(u6)\n",
    "  c6 = Dropout(0.2)(c6)\n",
    "  c6 = Conv2D(128, (3,3), activation=\"relu\", kernel_initializer=\"he_normal\", padding=\"same\")(c6)\n",
    "\n",
    "  u7 = Conv2DTranspose(64, (2,2), strides=(2,2), padding=\"same\")(c6)\n",
    "  u7 = concatenate([u7, c3])\n",
    "  c7 = Conv2D(64, (3,3), activation=\"relu\", kernel_initializer=\"he_normal\", padding=\"same\")(u7)\n",
    "  c7 = Dropout(0.2)(c7)\n",
    "  c7 = Conv2D(64, (3,3), activation=\"relu\", kernel_initializer=\"he_normal\", padding=\"same\")(c7)\n",
    "\n",
    "  u8 = Conv2DTranspose(32, (2,2), strides=(2,2), padding=\"same\")(c7)\n",
    "  u8 = concatenate([u8, c2])\n",
    "  c8 = Conv2D(32, (3,3), activation=\"relu\", kernel_initializer=\"he_normal\", padding=\"same\")(u8)\n",
    "  c8 = Dropout(0.2)(c8)\n",
    "  c8 = Conv2D(32, (3,3), activation=\"relu\", kernel_initializer=\"he_normal\", padding=\"same\")(c8)\n",
    "\n",
    "  u9 = Conv2DTranspose(16, (2,2), strides=(2,2), padding=\"same\")(c8)\n",
    "  u9 = concatenate([u9, c1], axis=3)\n",
    "  c9 = Conv2D(16, (3,3), activation=\"relu\", kernel_initializer=\"he_normal\", padding=\"same\")(u9)\n",
    "  c9 = Dropout(0.2)(c9)\n",
    "  c9 = Conv2D(16, (3,3), activation=\"relu\", kernel_initializer=\"he_normal\", padding=\"same\")(c9)\n",
    "\n",
    "  outputs = Conv2D(n_classes, (1,1), activation=\"softmax\")(c9)\n",
    "\n",
    "  model = Model(inputs=[inputs], outputs=[outputs])\n",
    "  return model"
   ]
  },
  {
   "cell_type": "code",
   "execution_count": null,
   "metadata": {
    "executionInfo": {
     "elapsed": 439,
     "status": "ok",
     "timestamp": 1731319180310,
     "user": {
      "displayName": "Mars Pluto",
      "userId": "00712412227210316639"
     },
     "user_tz": -330
    },
    "id": "n7QizpjF0ttw"
   },
   "outputs": [],
   "source": [
    "metrics = [\"accuracy\", jaccard_coef]"
   ]
  },
  {
   "cell_type": "code",
   "execution_count": null,
   "metadata": {
    "colab": {
     "base_uri": "https://localhost:8080/"
    },
    "executionInfo": {
     "elapsed": 517,
     "status": "ok",
     "timestamp": 1731319182235,
     "user": {
      "displayName": "Mars Pluto",
      "userId": "00712412227210316639"
     },
     "user_tz": -330
    },
    "id": "D0Sb5QwQ_u-O",
    "outputId": "c108c5c4-3181-4d63-c7e2-84f37d10b132"
   },
   "outputs": [],
   "source": [
    "print(image_height)\n",
    "print(image_width)\n",
    "print(image_channels)\n",
    "print(total_classes)"
   ]
  },
  {
   "cell_type": "code",
   "execution_count": null,
   "metadata": {
    "executionInfo": {
     "elapsed": 438,
     "status": "ok",
     "timestamp": 1731319184875,
     "user": {
      "displayName": "Mars Pluto",
      "userId": "00712412227210316639"
     },
     "user_tz": -330
    },
    "id": "3WunBOZE_Ywt"
   },
   "outputs": [],
   "source": [
    "def get_deep_learning_model():\n",
    "  return multi_unet_model(n_classes=total_classes,\n",
    "                          image_height=image_height,\n",
    "                          image_width=image_width,\n",
    "                          image_channels=image_channels)"
   ]
  },
  {
   "cell_type": "code",
   "execution_count": null,
   "metadata": {
    "executionInfo": {
     "elapsed": 994,
     "status": "ok",
     "timestamp": 1731319187233,
     "user": {
      "displayName": "Mars Pluto",
      "userId": "00712412227210316639"
     },
     "user_tz": -330
    },
    "id": "B5Oz4Taw_wyz"
   },
   "outputs": [],
   "source": [
    "model = get_deep_learning_model()"
   ]
  },
  {
   "cell_type": "code",
   "execution_count": null,
   "metadata": {
    "colab": {
     "base_uri": "https://localhost:8080/"
    },
    "executionInfo": {
     "elapsed": 4,
     "status": "ok",
     "timestamp": 1731319187683,
     "user": {
      "displayName": "Mars Pluto",
      "userId": "00712412227210316639"
     },
     "user_tz": -330
    },
    "id": "C4giCd_gDE9x",
    "outputId": "03919807-8cc3-425d-f5db-a36d7df680bf"
   },
   "outputs": [],
   "source": [
    "# Please uncomment this line to get model confiuration\n",
    "model.get_config()"
   ]
  },
  {
   "cell_type": "markdown",
   "metadata": {
    "id": "zfdq2xYuJlbb"
   },
   "source": [
    "## Generating Loss Function\n",
    "\n",
    "- dice loss > Focal Loss > Total Loss\n",
    "- Total Loss = (Dice loss + (1*Focal Loss))"
   ]
  },
  {
   "cell_type": "code",
   "execution_count": null,
   "metadata": {
    "executionInfo": {
     "elapsed": 434,
     "status": "ok",
     "timestamp": 1731319190931,
     "user": {
      "displayName": "Mars Pluto",
      "userId": "00712412227210316639"
     },
     "user_tz": -330
    },
    "id": "3s-t3D5sDzyC"
   },
   "outputs": [],
   "source": [
    "weights = [0.1666, 0.1666, 0.1666, 0.1666, 0.1666, 0.1666]"
   ]
  },
  {
   "cell_type": "code",
   "execution_count": null,
   "metadata": {
    "executionInfo": {
     "elapsed": 2,
     "status": "ok",
     "timestamp": 1731319192379,
     "user": {
      "displayName": "Mars Pluto",
      "userId": "00712412227210316639"
     },
     "user_tz": -330
    },
    "id": "F2PuT1o7Su-A"
   },
   "outputs": [],
   "source": [
    "#!pip install keras==2.10\n",
    "\n"
   ]
  },
  {
   "cell_type": "code",
   "execution_count": null,
   "metadata": {
    "executionInfo": {
     "elapsed": 2,
     "status": "ok",
     "timestamp": 1731319192966,
     "user": {
      "displayName": "Mars Pluto",
      "userId": "00712412227210316639"
     },
     "user_tz": -330
    },
    "id": "KuNQYaoAJtor"
   },
   "outputs": [],
   "source": [
    "#import segmentation_models as sm"
   ]
  },
  {
   "cell_type": "code",
   "execution_count": null,
   "metadata": {
    "executionInfo": {
     "elapsed": 1,
     "status": "ok",
     "timestamp": 1731319193481,
     "user": {
      "displayName": "Mars Pluto",
      "userId": "00712412227210316639"
     },
     "user_tz": -330
    },
    "id": "Gfu3Rjp5J6ew"
   },
   "outputs": [],
   "source": [
    "dice_loss = sm.losses.DiceLoss(class_weights = weights)"
   ]
  },
  {
   "cell_type": "code",
   "execution_count": null,
   "metadata": {
    "executionInfo": {
     "elapsed": 1,
     "status": "ok",
     "timestamp": 1731319195401,
     "user": {
      "displayName": "Mars Pluto",
      "userId": "00712412227210316639"
     },
     "user_tz": -330
    },
    "id": "WrsYeLxfKf0V"
   },
   "outputs": [],
   "source": [
    "focal_loss = sm.losses.CategoricalFocalLoss()"
   ]
  },
  {
   "cell_type": "code",
   "execution_count": null,
   "metadata": {
    "executionInfo": {
     "elapsed": 2,
     "status": "ok",
     "timestamp": 1731319195856,
     "user": {
      "displayName": "Mars Pluto",
      "userId": "00712412227210316639"
     },
     "user_tz": -330
    },
    "id": "DBrhramWKlOq"
   },
   "outputs": [],
   "source": [
    "total_loss = dice_loss + (1 * focal_loss)"
   ]
  },
  {
   "cell_type": "markdown",
   "metadata": {
    "id": "ep1H-tHhKx5J"
   },
   "source": [
    "## Model compilation"
   ]
  },
  {
   "cell_type": "code",
   "execution_count": null,
   "metadata": {
    "executionInfo": {
     "elapsed": 1,
     "status": "ok",
     "timestamp": 1731319197739,
     "user": {
      "displayName": "Mars Pluto",
      "userId": "00712412227210316639"
     },
     "user_tz": -330
    },
    "id": "JOURkXveKo8U"
   },
   "outputs": [],
   "source": [
    "import tensorflow as tf"
   ]
  },
  {
   "cell_type": "code",
   "execution_count": null,
   "metadata": {
    "executionInfo": {
     "elapsed": 1,
     "status": "ok",
     "timestamp": 1731319198496,
     "user": {
      "displayName": "Mars Pluto",
      "userId": "00712412227210316639"
     },
     "user_tz": -330
    },
    "id": "tE9Q9e3ZK1qN"
   },
   "outputs": [],
   "source": [
    "tf.keras.backend.clear_session()\n"
   ]
  },
  {
   "cell_type": "code",
   "execution_count": null,
   "metadata": {
    "executionInfo": {
     "elapsed": 1,
     "status": "ok",
     "timestamp": 1731319199649,
     "user": {
      "displayName": "Mars Pluto",
      "userId": "00712412227210316639"
     },
     "user_tz": -330
    },
    "id": "syAax956K6Z0"
   },
   "outputs": [],
   "source": [
    "model.compile(optimizer=\"adam\", loss=total_loss, metrics=metrics)"
   ]
  },
  {
   "cell_type": "code",
   "execution_count": null,
   "metadata": {
    "colab": {
     "base_uri": "https://localhost:8080/"
    },
    "executionInfo": {
     "elapsed": 598,
     "status": "ok",
     "timestamp": 1731319201048,
     "user": {
      "displayName": "Mars Pluto",
      "userId": "00712412227210316639"
     },
     "user_tz": -330
    },
    "id": "7pZM2YOBLJQ_",
    "outputId": "42debd91-a583-467b-8faa-9b47276b04df"
   },
   "outputs": [],
   "source": [
    "model.summary()"
   ]
  },
  {
   "cell_type": "code",
   "execution_count": null,
   "metadata": {
    "colab": {
     "background_save": true,
     "base_uri": "https://localhost:8080/"
    },
    "id": "xw8EybFdLL7D"
   },
   "outputs": [],
   "source": [
    "model_history = model.fit(X_train, y_train,\n",
    "                          batch_size=16,\n",
    "                          verbose=1,\n",
    "                          epochs=3,\n",
    "                          validation_data=(X_test, y_test),\n",
    "                          shuffle=False)"
   ]
  },
  {
   "cell_type": "code",
   "execution_count": null,
   "metadata": {
    "executionInfo": {
     "elapsed": 11,
     "status": "aborted",
     "timestamp": 1731318806950,
     "user": {
      "displayName": "Mars Pluto",
      "userId": "00712412227210316639"
     },
     "user_tz": -330
    },
    "id": "Q6EcJEN9L0Jg"
   },
   "outputs": [],
   "source": [
    "history_a = model_history"
   ]
  },
  {
   "cell_type": "code",
   "execution_count": null,
   "metadata": {
    "executionInfo": {
     "elapsed": 11,
     "status": "aborted",
     "timestamp": 1731318806950,
     "user": {
      "displayName": "Mars Pluto",
      "userId": "00712412227210316639"
     },
     "user_tz": -330
    },
    "id": "25A-HIhEQ47q"
   },
   "outputs": [],
   "source": [
    "history_a.history"
   ]
  },
  {
   "cell_type": "code",
   "execution_count": null,
   "metadata": {
    "executionInfo": {
     "elapsed": 12,
     "status": "aborted",
     "timestamp": 1731318806951,
     "user": {
      "displayName": "Mars Pluto",
      "userId": "00712412227210316639"
     },
     "user_tz": -330
    },
    "id": "KIiv1RKvQkLQ"
   },
   "outputs": [],
   "source": [
    "loss = history_a.history['loss']\n",
    "val_loss = history_a.history['val_loss']\n",
    "epochs = range(1, len(loss) + 1)\n",
    "plt.plot(epochs, loss, 'y', label=\"Training Loss\")\n",
    "plt.plot(epochs, val_loss, 'r', label=\"Validation Loss\")\n",
    "plt.title(\"Training Vs Validation Loss\")\n",
    "plt.xlabel(\"Epochs\")\n",
    "plt.ylabel(\"Loss\")\n",
    "plt.legend()\n",
    "plt.show()"
   ]
  },
  {
   "cell_type": "code",
   "execution_count": null,
   "metadata": {
    "executionInfo": {
     "elapsed": 12,
     "status": "aborted",
     "timestamp": 1731318806951,
     "user": {
      "displayName": "Mars Pluto",
      "userId": "00712412227210316639"
     },
     "user_tz": -330
    },
    "id": "AI_eBr2qQokL"
   },
   "outputs": [],
   "source": [
    "jaccard_coef = history_a.history['jaccard_coef']\n",
    "val_jaccard_coef = history_a.history['val_jaccard_coef']\n",
    "\n",
    "epochs = range(1, len(jaccard_coef) + 1)\n",
    "plt.plot(epochs, jaccard_coef, 'y', label=\"Training IoU\")\n",
    "plt.plot(epochs, val_jaccard_coef, 'r', label=\"Validation IoU\")\n",
    "plt.title(\"Training Vs Validation IoU\")\n",
    "plt.xlabel(\"Epochs\")\n",
    "plt.ylabel(\"Loss\")\n",
    "plt.legend()\n",
    "plt.show()\n",
    "\n"
   ]
  },
  {
   "cell_type": "code",
   "execution_count": null,
   "metadata": {
    "executionInfo": {
     "elapsed": 12,
     "status": "aborted",
     "timestamp": 1731318806951,
     "user": {
      "displayName": "Mars Pluto",
      "userId": "00712412227210316639"
     },
     "user_tz": -330
    },
    "id": "3y8Z8dZjQx8M"
   },
   "outputs": [],
   "source": [
    "model_history.params"
   ]
  },
  {
   "cell_type": "code",
   "execution_count": null,
   "metadata": {
    "executionInfo": {
     "elapsed": 12,
     "status": "aborted",
     "timestamp": 1731318806951,
     "user": {
      "displayName": "Mars Pluto",
      "userId": "00712412227210316639"
     },
     "user_tz": -330
    },
    "id": "Lx44Y6Njef11"
   },
   "outputs": [],
   "source": [
    "y_pred = model.predict(X_test)"
   ]
  },
  {
   "cell_type": "code",
   "execution_count": null,
   "metadata": {
    "executionInfo": {
     "elapsed": 12,
     "status": "aborted",
     "timestamp": 1731318806951,
     "user": {
      "displayName": "Mars Pluto",
      "userId": "00712412227210316639"
     },
     "user_tz": -330
    },
    "id": "Z6GkrguJe39r"
   },
   "outputs": [],
   "source": [
    "len(y_pred)"
   ]
  },
  {
   "cell_type": "code",
   "execution_count": null,
   "metadata": {
    "executionInfo": {
     "elapsed": 11,
     "status": "aborted",
     "timestamp": 1731318806951,
     "user": {
      "displayName": "Mars Pluto",
      "userId": "00712412227210316639"
     },
     "user_tz": -330
    },
    "id": "ZmWwZycYfcDx"
   },
   "outputs": [],
   "source": [
    "y_pred"
   ]
  },
  {
   "cell_type": "code",
   "execution_count": null,
   "metadata": {
    "executionInfo": {
     "elapsed": 11,
     "status": "aborted",
     "timestamp": 1731318806951,
     "user": {
      "displayName": "Mars Pluto",
      "userId": "00712412227210316639"
     },
     "user_tz": -330
    },
    "id": "t8loNSlPe_sw"
   },
   "outputs": [],
   "source": [
    "y_pred_argmax = np.argmax(y_pred, axis=3)"
   ]
  },
  {
   "cell_type": "code",
   "execution_count": null,
   "metadata": {
    "executionInfo": {
     "elapsed": 11,
     "status": "aborted",
     "timestamp": 1731318806951,
     "user": {
      "displayName": "Mars Pluto",
      "userId": "00712412227210316639"
     },
     "user_tz": -330
    },
    "id": "bYY1asiyfUOd"
   },
   "outputs": [],
   "source": [
    "len(y_pred_argmax)"
   ]
  },
  {
   "cell_type": "code",
   "execution_count": null,
   "metadata": {
    "executionInfo": {
     "elapsed": 11,
     "status": "aborted",
     "timestamp": 1731318806951,
     "user": {
      "displayName": "Mars Pluto",
      "userId": "00712412227210316639"
     },
     "user_tz": -330
    },
    "id": "2U2ZGgaEfVkL"
   },
   "outputs": [],
   "source": [
    "\n",
    "y_pred_argmax"
   ]
  },
  {
   "cell_type": "code",
   "execution_count": null,
   "metadata": {
    "executionInfo": {
     "elapsed": 11,
     "status": "aborted",
     "timestamp": 1731318806951,
     "user": {
      "displayName": "Mars Pluto",
      "userId": "00712412227210316639"
     },
     "user_tz": -330
    },
    "id": "QigVQNTFfaCY"
   },
   "outputs": [],
   "source": [
    "y_test_argmax = np.argmax(y_test, axis=3)"
   ]
  },
  {
   "cell_type": "code",
   "execution_count": null,
   "metadata": {
    "executionInfo": {
     "elapsed": 11,
     "status": "aborted",
     "timestamp": 1731318806951,
     "user": {
      "displayName": "Mars Pluto",
      "userId": "00712412227210316639"
     },
     "user_tz": -330
    },
    "id": "DBmt9bIjfn0G"
   },
   "outputs": [],
   "source": [
    "y_test_argmax"
   ]
  },
  {
   "cell_type": "markdown",
   "metadata": {
    "id": "TNA6h3yMf14-"
   },
   "source": [
    "## Comparing prediction results\n",
    "-  using test images using mask images and predicted result images.."
   ]
  },
  {
   "cell_type": "code",
   "execution_count": null,
   "metadata": {
    "executionInfo": {
     "elapsed": 11,
     "status": "aborted",
     "timestamp": 1731318806951,
     "user": {
      "displayName": "Mars Pluto",
      "userId": "00712412227210316639"
     },
     "user_tz": -330
    },
    "id": "_QN1MPq5hzGK"
   },
   "outputs": [],
   "source": [
    "import random\n"
   ]
  },
  {
   "cell_type": "code",
   "execution_count": null,
   "metadata": {
    "executionInfo": {
     "elapsed": 11,
     "status": "aborted",
     "timestamp": 1731318806951,
     "user": {
      "displayName": "Mars Pluto",
      "userId": "00712412227210316639"
     },
     "user_tz": -330
    },
    "id": "-Hatz2tbfpwM"
   },
   "outputs": [],
   "source": [
    "test_image_number = random.randint(0, len(X_test))\n",
    "\n",
    "test_image = X_test[test_image_number]\n",
    "ground_truth_image = y_test_argmax[test_image_number]\n",
    "\n",
    "test_image_input = np.expand_dims(test_image, 0)\n",
    "\n",
    "prediction = model.predict(test_image_input)\n",
    "predicted_image = np.argmax(prediction, axis=3)\n",
    "predicted_image = predicted_image[0,:,:]"
   ]
  },
  {
   "cell_type": "code",
   "execution_count": null,
   "metadata": {
    "executionInfo": {
     "elapsed": 11,
     "status": "aborted",
     "timestamp": 1731318806951,
     "user": {
      "displayName": "Mars Pluto",
      "userId": "00712412227210316639"
     },
     "user_tz": -330
    },
    "id": "uZZOrT0KhQWJ"
   },
   "outputs": [],
   "source": [
    "plt.figure(figsize=(14,8))\n",
    "plt.subplot(231)\n",
    "plt.title(\"Original Image\")\n",
    "plt.imshow(test_image)\n",
    "plt.subplot(232)\n",
    "plt.title(\"Original Masked image\")\n",
    "plt.imshow(ground_truth_image)\n",
    "plt.subplot(233)\n",
    "plt.title(\"Predicted Image\")\n",
    "plt.imshow(predicted_image)\n"
   ]
  },
  {
   "cell_type": "code",
   "execution_count": null,
   "metadata": {
    "executionInfo": {
     "elapsed": 11,
     "status": "aborted",
     "timestamp": 1731318806951,
     "user": {
      "displayName": "Mars Pluto",
      "userId": "00712412227210316639"
     },
     "user_tz": -330
    },
    "id": "-v3ZSpZjhMFi"
   },
   "outputs": [],
   "source": [
    "model.save(\"satellite_segmentation_full.h5\")"
   ]
  },
  {
   "cell_type": "code",
   "execution_count": null,
   "metadata": {
    "executionInfo": {
     "elapsed": 12,
     "status": "aborted",
     "timestamp": 1731318806952,
     "user": {
      "displayName": "Mars Pluto",
      "userId": "00712412227210316639"
     },
     "user_tz": -330
    },
    "id": "OBGQg_H9i_Pb"
   },
   "outputs": [],
   "source": []
  },
  {
   "cell_type": "code",
   "execution_count": null,
   "metadata": {},
   "outputs": [],
   "source": []
  }
 ],
 "metadata": {
  "colab": {
   "name": "",
   "version": ""
  },
  "kernelspec": {
   "display_name": "Python 3 (ipykernel)",
   "language": "python",
   "name": "python3"
  },
  "language_info": {
   "codemirror_mode": {
    "name": "ipython",
    "version": 3
   },
   "file_extension": ".py",
   "mimetype": "text/x-python",
   "name": "python",
   "nbconvert_exporter": "python",
   "pygments_lexer": "ipython3",
   "version": "3.9.12"
  }
 },
 "nbformat": 4,
 "nbformat_minor": 1
}
